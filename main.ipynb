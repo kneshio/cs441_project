{
 "cells": [
  {
   "cell_type": "code",
   "execution_count": 2,
   "metadata": {},
   "outputs": [],
   "source": [
    "import pandas as pd\n",
    "import matplotlib.pyplot as plt"
   ]
  },
  {
   "cell_type": "code",
   "execution_count": 4,
   "metadata": {},
   "outputs": [],
   "source": [
    "ed = pd.read_excel('data/Education2023.xlsx',skiprows=3)\n",
    "pop=pd.read_excel('data/PopulationEstimates.xlsx',skiprows=4)\n",
    "pov=pd.read_excel('data/Poverty2023.xlsx',skiprows=4)\n",
    "un=pd.read_excel('data/Unemployment2023.xlsx',skiprows=4)"
   ]
  },
  {
   "cell_type": "code",
   "execution_count": 5,
   "metadata": {},
   "outputs": [],
   "source": [
    "ed_columns_to_keep = [\n",
    "    \"FIPS Code\", \"State\", \"Area name\",  # Geographic Identifiers\n",
    "    \"2024 Urban Influence Code\", \n",
    "    #\"2023 Rural-urban Continuum Code\",  # Urbanization & Influence\n",
    "    # Educational Attainment, 2019-2023\n",
    "    \"Percent of adults who are not high school graduates, 2019-23\",\n",
    "    \"Percent of adults who are high school graduates (or equivalent), 2019-23\",\n",
    "    \"Percent of adults completing some college or associate degree, 2019-23\",\n",
    "    \"Percent of adults with a bachelor's degree or higher, 2019-23\",\n",
    "    # Educational Attainment, 2008-2012\n",
    "    # \"Percent of adults who are not high school graduates, 2008-12\",\n",
    "    # \"Percent of adults who are high school graduates (or equivalent), 2008-12\",\n",
    "    # \"Percent of adults completing some college or associate degree, 2008-12\",\n",
    "    # \"Percent of adults with a bachelor's degree or higher, 2008-12\",\n",
    "    # # Educational Attainment, 2000\n",
    "    # \"Percent of adults who are not high school graduates, 2000\",\n",
    "    # \"Percent of adults who are high school graduates (or equivalent), 2000\",\n",
    "    # \"Percent of adults completing some college or associate degree, 2000\",\n",
    "    # \"Percent of adults with a bachelor's degree or higher, 2000\",\n",
    "    # # Educational Attainment, 1990\n",
    "    # \"Percent of adults who are not high school graduates, 1990\",\n",
    "    # \"Percent of adults who are high school graduates (or equivalent), 1990\",\n",
    "    # \"Percent of adults completing some college or associate degree, 1990\",\n",
    "    # \"Percent of adults with a bachelor's degree or higher, 1990\",\n",
    "    # # Educational Attainment, 1980\n",
    "    # \"Percent of adults with less than a high school diploma, 1980\",\n",
    "    # \"Percent of adults with a high school diploma only, 1980\",\n",
    "    # \"Percent of adults completing some college (1-3 years), 1980\",\n",
    "    # \"Percent of adults completing four years of college or higher, 1980\",\n",
    "    # # Educational Attainment, 1970\n",
    "    # \"Percent of adults with less than a high school diploma, 1970\",\n",
    "    # \"Percent of adults with a high school diploma only, 1970\",\n",
    "    # \"Percent of adults completing some college (1-3 years), 1970\",\n",
    "    # \"Percent of adults completing four years of college or higher, 1970\"\n",
    "]\n",
    "ed_filtered=ed[ed_columns_to_keep]"
   ]
  },
  {
   "cell_type": "code",
   "execution_count": 6,
   "metadata": {},
   "outputs": [],
   "source": [
    "pov_columns_to_keep = [\n",
    "    # Geographic Identifiers\n",
    "    \"FIPS_Code\", \n",
    "    #\"Stabr\", \"Area_Name\",\n",
    "    # Urbanization & Influence\n",
    "    #\"Rural_Urban_Continuum_Code_2023\", \"Urban_Influence_Code_2024\",\n",
    "    # Economic Indicators/Poverty Metrics\n",
    "    \"MEDHHINC_2023\", \"PCTPOVALL_2023\", \n",
    "    #\"PCTPOV017_2023\",\n",
    "    #\"PCTPOV517_2023\", \"PCTPOV04_2023\"\n",
    "]\n",
    "pov_filtered=pov[pov_columns_to_keep]\n"
   ]
  },
  {
   "cell_type": "code",
   "execution_count": 7,
   "metadata": {},
   "outputs": [],
   "source": [
    "pop_columns_to_keep = [\n",
    "    # Geographic Identifiers\n",
    "    \"FIPStxt\", \"State\", \"Area_Name\",\n",
    "    # Economic Indicators\n",
    "    \"Economic_typology_2015\",\n",
    "    # Urbanization & Influence\n",
    "    #\"Rural_Urban_Continuum_Code_2023\", \"Urban_Influence_2013\",\n",
    "    # Population Metrics\n",
    "    #\"CENSUS_2020_POP\",\n",
    "     # \"ESTIMATES_BASE_2020\",\n",
    "    # 2020-2023 Metrics\n",
    "    #\"POP_ESTIMATE_2021\",\n",
    "     # \"N_POP_CHG_2021\", \n",
    "    #\"BIRTHS_2021\",\n",
    "    #\"DEATHS_2021\",\n",
    "      \"NATURAL_CHG_2021\", \n",
    "    \"DOMESTIC_MIG_2021\",  \"R_BIRTH_2021\", \n",
    "    \"R_NATURAL_CHG_2021\", \"R_INTERNATIONAL_MIG_2021\", \"R_DOMESTIC_MIG_2021\"\n",
    "    #, \"R_NET_MIG_2021\"\n",
    "    #,\"INTERNATIONAL_MIG_2021\",\n",
    "    #\"NET_MIG_2021\",\n",
    "    #\"R_DEATH_2021\"\n",
    "]\n",
    "pop_filtered=pop[pop_columns_to_keep]\n"
   ]
  },
  {
   "cell_type": "code",
   "execution_count": 8,
   "metadata": {},
   "outputs": [],
   "source": [
    "un_columns_to_keep = [\n",
    "    # Geographic Identifiers\n",
    "    \"FIPS_Code\",\n",
    "     # \"State\", \"Area_Name\",\n",
    "    # Economic Indicators\n",
    "    #\"Median_Household_Income_2022\"\n",
    "    #\"Med_HH_Income_Percent_of_State_Total_2022\",\n",
    "    # Urbanization & Influence\n",
    "    #\"Rural_Urban_Continuum_Code_2023\", \"Urban_Influence_Code_2013\",\n",
    "    #\"Metro_2023\",\n",
    "    # Employment Metrics over 24 years\n",
    "    #\"Civilian_labor_force_2023\",\n",
    "     \"Employed_2023\",\n",
    "      # \"Unemployed_2023\", \n",
    "      \"Unemployment_rate_2023\"\n",
    "]\n",
    "un_filtered=un[un_columns_to_keep]"
   ]
  },
  {
   "cell_type": "code",
   "execution_count": 9,
   "metadata": {},
   "outputs": [],
   "source": [
    "def correlated_pairs(df, threshold=0.7):\n",
    "    df=df.select_dtypes(include=['number'])\n",
    "    # Calculate correlations\n",
    "    corr_matrix = df.corr()\n",
    "    \n",
    "    # Convert to long format, keeping only high correlations\n",
    "    correlations = []\n",
    "    for col1 in corr_matrix.columns:\n",
    "        for col2 in corr_matrix.columns:\n",
    "            if col1 < col2:  # Avoid duplicate pairs and self-correlations\n",
    "                corr_value = corr_matrix.loc[col1, col2]\n",
    "                if abs(corr_value) >= threshold:\n",
    "                    correlations.append({\n",
    "                        'col1': col1,\n",
    "                        'col2': col2,\n",
    "                        'correlation': corr_value\n",
    "                    })\n",
    "    \n",
    "    # Sort by absolute correlation value\n",
    "    result = pd.DataFrame(correlations)\n",
    "    if len(result) > 0:\n",
    "        return result.sort_values(by='correlation', key=abs, ascending=False)\n",
    "    else:\n",
    "        print(f\"No correlations found above threshold of {threshold}\")\n",
    "        return result"
   ]
  },
  {
   "cell_type": "code",
   "execution_count": 10,
   "metadata": {},
   "outputs": [
    {
     "data": {
      "text/html": [
       "<div>\n",
       "<style scoped>\n",
       "    .dataframe tbody tr th:only-of-type {\n",
       "        vertical-align: middle;\n",
       "    }\n",
       "\n",
       "    .dataframe tbody tr th {\n",
       "        vertical-align: top;\n",
       "    }\n",
       "\n",
       "    .dataframe thead th {\n",
       "        text-align: right;\n",
       "    }\n",
       "</style>\n",
       "<table border=\"1\" class=\"dataframe\">\n",
       "  <thead>\n",
       "    <tr style=\"text-align: right;\">\n",
       "      <th></th>\n",
       "      <th>col1</th>\n",
       "      <th>col2</th>\n",
       "      <th>correlation</th>\n",
       "    </tr>\n",
       "  </thead>\n",
       "  <tbody>\n",
       "    <tr>\n",
       "      <th>0</th>\n",
       "      <td>Percent of adults who are high school graduate...</td>\n",
       "      <td>Percent of adults with a bachelor's degree or ...</td>\n",
       "      <td>-0.807936</td>\n",
       "    </tr>\n",
       "  </tbody>\n",
       "</table>\n",
       "</div>"
      ],
      "text/plain": [
       "                                                col1  \\\n",
       "0  Percent of adults who are high school graduate...   \n",
       "\n",
       "                                                col2  correlation  \n",
       "0  Percent of adults with a bachelor's degree or ...    -0.807936  "
      ]
     },
     "execution_count": 10,
     "metadata": {},
     "output_type": "execute_result"
    }
   ],
   "source": [
    "#ed_filtered\n",
    "#pov_filtered\n",
    "#pop_filtered\n",
    "#un_filtered\n",
    "correlated_pairs(ed_filtered)"
   ]
  },
  {
   "cell_type": "code",
   "execution_count": 11,
   "metadata": {},
   "outputs": [
    {
     "data": {
      "text/html": [
       "<div>\n",
       "<style scoped>\n",
       "    .dataframe tbody tr th:only-of-type {\n",
       "        vertical-align: middle;\n",
       "    }\n",
       "\n",
       "    .dataframe tbody tr th {\n",
       "        vertical-align: top;\n",
       "    }\n",
       "\n",
       "    .dataframe thead th {\n",
       "        text-align: right;\n",
       "    }\n",
       "</style>\n",
       "<table border=\"1\" class=\"dataframe\">\n",
       "  <thead>\n",
       "    <tr style=\"text-align: right;\">\n",
       "      <th></th>\n",
       "      <th>col1</th>\n",
       "      <th>col2</th>\n",
       "      <th>correlation</th>\n",
       "    </tr>\n",
       "  </thead>\n",
       "  <tbody>\n",
       "    <tr>\n",
       "      <th>0</th>\n",
       "      <td>MEDHHINC_2023</td>\n",
       "      <td>PCTPOVALL_2023</td>\n",
       "      <td>-0.762752</td>\n",
       "    </tr>\n",
       "  </tbody>\n",
       "</table>\n",
       "</div>"
      ],
      "text/plain": [
       "            col1            col2  correlation\n",
       "0  MEDHHINC_2023  PCTPOVALL_2023    -0.762752"
      ]
     },
     "execution_count": 11,
     "metadata": {},
     "output_type": "execute_result"
    }
   ],
   "source": [
    "correlated_pairs(pov_filtered)"
   ]
  },
  {
   "cell_type": "code",
   "execution_count": 12,
   "metadata": {},
   "outputs": [
    {
     "name": "stdout",
     "output_type": "stream",
     "text": [
      "No correlations found above threshold of 0.7\n"
     ]
    },
    {
     "data": {
      "text/html": [
       "<div>\n",
       "<style scoped>\n",
       "    .dataframe tbody tr th:only-of-type {\n",
       "        vertical-align: middle;\n",
       "    }\n",
       "\n",
       "    .dataframe tbody tr th {\n",
       "        vertical-align: top;\n",
       "    }\n",
       "\n",
       "    .dataframe thead th {\n",
       "        text-align: right;\n",
       "    }\n",
       "</style>\n",
       "<table border=\"1\" class=\"dataframe\">\n",
       "  <thead>\n",
       "    <tr style=\"text-align: right;\">\n",
       "      <th></th>\n",
       "    </tr>\n",
       "  </thead>\n",
       "  <tbody>\n",
       "  </tbody>\n",
       "</table>\n",
       "</div>"
      ],
      "text/plain": [
       "Empty DataFrame\n",
       "Columns: []\n",
       "Index: []"
      ]
     },
     "execution_count": 12,
     "metadata": {},
     "output_type": "execute_result"
    }
   ],
   "source": [
    "correlated_pairs(pop_filtered)"
   ]
  },
  {
   "cell_type": "code",
   "execution_count": 13,
   "metadata": {},
   "outputs": [
    {
     "name": "stdout",
     "output_type": "stream",
     "text": [
      "No correlations found above threshold of 0.7\n"
     ]
    },
    {
     "data": {
      "text/html": [
       "<div>\n",
       "<style scoped>\n",
       "    .dataframe tbody tr th:only-of-type {\n",
       "        vertical-align: middle;\n",
       "    }\n",
       "\n",
       "    .dataframe tbody tr th {\n",
       "        vertical-align: top;\n",
       "    }\n",
       "\n",
       "    .dataframe thead th {\n",
       "        text-align: right;\n",
       "    }\n",
       "</style>\n",
       "<table border=\"1\" class=\"dataframe\">\n",
       "  <thead>\n",
       "    <tr style=\"text-align: right;\">\n",
       "      <th></th>\n",
       "    </tr>\n",
       "  </thead>\n",
       "  <tbody>\n",
       "  </tbody>\n",
       "</table>\n",
       "</div>"
      ],
      "text/plain": [
       "Empty DataFrame\n",
       "Columns: []\n",
       "Index: []"
      ]
     },
     "execution_count": 13,
     "metadata": {},
     "output_type": "execute_result"
    }
   ],
   "source": [
    "correlated_pairs(un_filtered)"
   ]
  },
  {
   "cell_type": "code",
   "execution_count": 14,
   "metadata": {},
   "outputs": [
    {
     "data": {
      "text/html": [
       "<div>\n",
       "<style scoped>\n",
       "    .dataframe tbody tr th:only-of-type {\n",
       "        vertical-align: middle;\n",
       "    }\n",
       "\n",
       "    .dataframe tbody tr th {\n",
       "        vertical-align: top;\n",
       "    }\n",
       "\n",
       "    .dataframe thead th {\n",
       "        text-align: right;\n",
       "    }\n",
       "</style>\n",
       "<table border=\"1\" class=\"dataframe\">\n",
       "  <thead>\n",
       "    <tr style=\"text-align: right;\">\n",
       "      <th></th>\n",
       "      <th>col1</th>\n",
       "      <th>col2</th>\n",
       "      <th>correlation</th>\n",
       "    </tr>\n",
       "  </thead>\n",
       "  <tbody>\n",
       "    <tr>\n",
       "      <th>0</th>\n",
       "      <td>Percent of adults who are high school graduate...</td>\n",
       "      <td>Percent of adults with a bachelor's degree or ...</td>\n",
       "      <td>-0.807936</td>\n",
       "    </tr>\n",
       "  </tbody>\n",
       "</table>\n",
       "</div>"
      ],
      "text/plain": [
       "                                                col1  \\\n",
       "0  Percent of adults who are high school graduate...   \n",
       "\n",
       "                                                col2  correlation  \n",
       "0  Percent of adults with a bachelor's degree or ...    -0.807936  "
      ]
     },
     "execution_count": 14,
     "metadata": {},
     "output_type": "execute_result"
    }
   ],
   "source": [
    "correlated_pairs(ed_filtered)"
   ]
  },
  {
   "cell_type": "code",
   "execution_count": 16,
   "metadata": {},
   "outputs": [
    {
     "name": "stdout",
     "output_type": "stream",
     "text": [
      "(3195, 21)\n"
     ]
    },
    {
     "data": {
      "text/html": [
       "<div>\n",
       "<style scoped>\n",
       "    .dataframe tbody tr th:only-of-type {\n",
       "        vertical-align: middle;\n",
       "    }\n",
       "\n",
       "    .dataframe tbody tr th {\n",
       "        vertical-align: top;\n",
       "    }\n",
       "\n",
       "    .dataframe thead th {\n",
       "        text-align: right;\n",
       "    }\n",
       "</style>\n",
       "<table border=\"1\" class=\"dataframe\">\n",
       "  <thead>\n",
       "    <tr style=\"text-align: right;\">\n",
       "      <th></th>\n",
       "      <th>col1</th>\n",
       "      <th>col2</th>\n",
       "      <th>correlation</th>\n",
       "    </tr>\n",
       "  </thead>\n",
       "  <tbody>\n",
       "    <tr>\n",
       "      <th>0</th>\n",
       "      <td>Percent of adults who are high school graduate...</td>\n",
       "      <td>Percent of adults with a bachelor's degree or ...</td>\n",
       "      <td>-0.811720</td>\n",
       "    </tr>\n",
       "    <tr>\n",
       "      <th>3</th>\n",
       "      <td>MEDHHINC_2023</td>\n",
       "      <td>PCTPOVALL_2023</td>\n",
       "      <td>-0.762752</td>\n",
       "    </tr>\n",
       "    <tr>\n",
       "      <th>1</th>\n",
       "      <td>Employed_2023</td>\n",
       "      <td>NATURAL_CHG_2021</td>\n",
       "      <td>0.756382</td>\n",
       "    </tr>\n",
       "    <tr>\n",
       "      <th>2</th>\n",
       "      <td>MEDHHINC_2023</td>\n",
       "      <td>Percent of adults with a bachelor's degree or ...</td>\n",
       "      <td>0.728667</td>\n",
       "    </tr>\n",
       "  </tbody>\n",
       "</table>\n",
       "</div>"
      ],
      "text/plain": [
       "                                                col1  \\\n",
       "0  Percent of adults who are high school graduate...   \n",
       "3                                      MEDHHINC_2023   \n",
       "1                                      Employed_2023   \n",
       "2                                      MEDHHINC_2023   \n",
       "\n",
       "                                                col2  correlation  \n",
       "0  Percent of adults with a bachelor's degree or ...    -0.811720  \n",
       "3                                     PCTPOVALL_2023    -0.762752  \n",
       "1                                   NATURAL_CHG_2021     0.756382  \n",
       "2  Percent of adults with a bachelor's degree or ...     0.728667  "
      ]
     },
     "execution_count": 16,
     "metadata": {},
     "output_type": "execute_result"
    }
   ],
   "source": [
    "ed_filtered = ed_filtered.rename(columns={'FIPS Code': 'FIPS'})\n",
    "pop_filtered = pop_filtered.rename(columns={'FIPStxt': 'FIPS'})\n",
    "un_filtered = un_filtered.rename(columns={'FIPS_Code': 'FIPS'})\n",
    "pov_filtered = pov_filtered.rename(columns={'FIPS_Code': 'FIPS'})\n",
    "\n",
    "# Merge all dataframes on 'FIPS'\n",
    "merged = ed_filtered.merge(pop_filtered, on='FIPS')\\\n",
    "                       .merge(un_filtered, on='FIPS')\\\n",
    "                       .merge(pov_filtered, on='FIPS')\n",
    "print(merged.shape)\n",
    "correlated_pairs(merged)"
   ]
  },
  {
   "cell_type": "code",
   "execution_count": null,
   "metadata": {},
   "outputs": [],
   "source": []
  }
 ],
 "metadata": {
  "kernelspec": {
   "display_name": "Python 3",
   "language": "python",
   "name": "python3"
  },
  "language_info": {
   "codemirror_mode": {
    "name": "ipython",
    "version": 3
   },
   "file_extension": ".py",
   "mimetype": "text/x-python",
   "name": "python",
   "nbconvert_exporter": "python",
   "pygments_lexer": "ipython3",
   "version": "3.11.5"
  }
 },
 "nbformat": 4,
 "nbformat_minor": 4
}
