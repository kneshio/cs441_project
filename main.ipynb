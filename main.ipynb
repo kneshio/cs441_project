{
 "cells": [
  {
   "cell_type": "code",
   "execution_count": 48,
   "metadata": {},
   "outputs": [],
   "source": [
    "import pandas as pd\n",
    "import matplotlib.pyplot as plt"
   ]
  },
  {
   "cell_type": "code",
   "execution_count": 49,
   "metadata": {},
   "outputs": [],
   "source": [
    "ed = pd.read_excel('data/Education2023.xlsx',skiprows=3)\n",
    "pop=pd.read_excel('data/PopulationEstimates.xlsx',skiprows=4)\n",
    "pov=pd.read_excel('data/Poverty2023.xlsx',skiprows=4)\n",
    "un=pd.read_excel('data/Unemployment2023.xlsx',skiprows=4)"
   ]
  },
  {
   "cell_type": "code",
   "execution_count": 51,
   "metadata": {},
   "outputs": [],
   "source": [
    "ed_columns_to_keep = [\n",
    "    \"FIPS Code\", \"State\", \"Area name\",  # Geographic Identifiers\n",
    "    \"2024 Urban Influence Code\", \n",
    "    #\"2023 Rural-urban Continuum Code\",  # Urbanization & Influence\n",
    "    # Educational Attainment, 2019-2023\n",
    "    \"Percent of adults who are not high school graduates, 2019-23\",\n",
    "    \"Percent of adults who are high school graduates (or equivalent), 2019-23\",\n",
    "    \"Percent of adults completing some college or associate degree, 2019-23\",\n",
    "    \"Percent of adults with a bachelor's degree or higher, 2019-23\",\n",
    "    # Educational Attainment, 2008-2012\n",
    "    # \"Percent of adults who are not high school graduates, 2008-12\",\n",
    "    # \"Percent of adults who are high school graduates (or equivalent), 2008-12\",\n",
    "    # \"Percent of adults completing some college or associate degree, 2008-12\",\n",
    "    # \"Percent of adults with a bachelor's degree or higher, 2008-12\",\n",
    "    # # Educational Attainment, 2000\n",
    "    # \"Percent of adults who are not high school graduates, 2000\",\n",
    "    # \"Percent of adults who are high school graduates (or equivalent), 2000\",\n",
    "    # \"Percent of adults completing some college or associate degree, 2000\",\n",
    "    # \"Percent of adults with a bachelor's degree or higher, 2000\",\n",
    "    # # Educational Attainment, 1990\n",
    "    # \"Percent of adults who are not high school graduates, 1990\",\n",
    "    # \"Percent of adults who are high school graduates (or equivalent), 1990\",\n",
    "    # \"Percent of adults completing some college or associate degree, 1990\",\n",
    "    # \"Percent of adults with a bachelor's degree or higher, 1990\",\n",
    "    # # Educational Attainment, 1980\n",
    "    # \"Percent of adults with less than a high school diploma, 1980\",\n",
    "    # \"Percent of adults with a high school diploma only, 1980\",\n",
    "    # \"Percent of adults completing some college (1-3 years), 1980\",\n",
    "    # \"Percent of adults completing four years of college or higher, 1980\",\n",
    "    # # Educational Attainment, 1970\n",
    "    # \"Percent of adults with less than a high school diploma, 1970\",\n",
    "    # \"Percent of adults with a high school diploma only, 1970\",\n",
    "    # \"Percent of adults completing some college (1-3 years), 1970\",\n",
    "    # \"Percent of adults completing four years of college or higher, 1970\"\n",
    "]\n",
    "ed_filtered=ed[ed_columns_to_keep]"
   ]
  },
  {
   "cell_type": "code",
   "execution_count": 52,
   "metadata": {},
   "outputs": [],
   "source": [
    "pov_columns_to_keep = [\n",
    "    # Geographic Identifiers\n",
    "    \"FIPS_Code\", \n",
    "    #\"Stabr\", \"Area_Name\",\n",
    "    # Urbanization & Influence\n",
    "    #\"Rural_Urban_Continuum_Code_2023\", \"Urban_Influence_Code_2024\",\n",
    "    # Economic Indicators/Poverty Metrics\n",
    "    \"MEDHHINC_2023\", \"PCTPOVALL_2023\", \n",
    "    #\"PCTPOV017_2023\",\n",
    "    #\"PCTPOV517_2023\", \"PCTPOV04_2023\"\n",
    "]\n",
    "pov_filtered=pov[pov_columns_to_keep]\n"
   ]
  },
  {
   "cell_type": "code",
   "execution_count": 53,
   "metadata": {},
   "outputs": [],
   "source": [
    "pop_columns_to_keep = [\n",
    "    # Geographic Identifiers\n",
    "    \"FIPStxt\", \"State\", \"Area_Name\",\n",
    "    # Economic Indicators\n",
    "    \"Economic_typology_2015\",\n",
    "    # Urbanization & Influence\n",
    "    #\"Rural_Urban_Continuum_Code_2023\", \"Urban_Influence_2013\",\n",
    "    # Population Metrics\n",
    "    #\"CENSUS_2020_POP\",\n",
    "     # \"ESTIMATES_BASE_2020\",\n",
    "    # 2020-2023 Metrics\n",
    "    #\"POP_ESTIMATE_2021\",\n",
    "     # \"N_POP_CHG_2021\", \n",
    "    #\"BIRTHS_2021\",\n",
    "    #\"DEATHS_2021\",\n",
    "      \"NATURAL_CHG_2021\", \n",
    "    \"DOMESTIC_MIG_2021\",  \"R_BIRTH_2021\", \n",
    "    \"R_NATURAL_CHG_2021\", \"R_INTERNATIONAL_MIG_2021\", \"R_DOMESTIC_MIG_2021\"\n",
    "    #, \"R_NET_MIG_2021\"\n",
    "    #,\"INTERNATIONAL_MIG_2021\",\n",
    "    #\"NET_MIG_2021\",\n",
    "    #\"R_DEATH_2021\"\n",
    "]\n",
    "pop_filtered=pop[pop_columns_to_keep]\n"
   ]
  },
  {
   "cell_type": "code",
   "execution_count": 54,
   "metadata": {},
   "outputs": [],
   "source": [
    "un_columns_to_keep = [\n",
    "    # Geographic Identifiers\n",
    "    \"FIPS_Code\",\n",
    "     # \"State\", \"Area_Name\",\n",
    "    # Economic Indicators\n",
    "    #\"Median_Household_Income_2022\"\n",
    "    #\"Med_HH_Income_Percent_of_State_Total_2022\",\n",
    "    # Urbanization & Influence\n",
    "    #\"Rural_Urban_Continuum_Code_2023\", \"Urban_Influence_Code_2013\",\n",
    "    #\"Metro_2023\",\n",
    "    # Employment Metrics over 24 years\n",
    "    #\"Civilian_labor_force_2023\",\n",
    "     \"Employed_2023\",\n",
    "      # \"Unemployed_2023\", \n",
    "      \"Unemployment_rate_2023\"\n",
    "]\n",
    "un_filtered=un[un_columns_to_keep]"
   ]
  },
  {
   "cell_type": "code",
   "execution_count": 55,
   "metadata": {},
   "outputs": [],
   "source": [
    "def correlated_pairs(df, threshold=0.7):\n",
    "    df=df.select_dtypes(include=['number'])\n",
    "    # Calculate correlations\n",
    "    corr_matrix = df.corr()\n",
    "    \n",
    "    # Convert to long format, keeping only high correlations\n",
    "    correlations = []\n",
    "    for col1 in corr_matrix.columns:\n",
    "        for col2 in corr_matrix.columns:\n",
    "            if col1 < col2:  # Avoid duplicate pairs and self-correlations\n",
    "                corr_value = corr_matrix.loc[col1, col2]\n",
    "                if abs(corr_value) >= threshold:\n",
    "                    correlations.append({\n",
    "                        'col1': col1,\n",
    "                        'col2': col2,\n",
    "                        'correlation': corr_value\n",
    "                    })\n",
    "    \n",
    "    # Sort by absolute correlation value\n",
    "    result = pd.DataFrame(correlations)\n",
    "    if len(result) > 0:\n",
    "        return result.sort_values(by='correlation', key=abs, ascending=False)\n",
    "    else:\n",
    "        print(f\"No correlations found above threshold of {threshold}\")\n",
    "        return result"
   ]
  },
  {
   "cell_type": "code",
   "execution_count": 56,
   "metadata": {},
   "outputs": [
    {
     "data": {
      "text/html": [
       "<div>\n",
       "<style scoped>\n",
       "    .dataframe tbody tr th:only-of-type {\n",
       "        vertical-align: middle;\n",
       "    }\n",
       "\n",
       "    .dataframe tbody tr th {\n",
       "        vertical-align: top;\n",
       "    }\n",
       "\n",
       "    .dataframe thead th {\n",
       "        text-align: right;\n",
       "    }\n",
       "</style>\n",
       "<table border=\"1\" class=\"dataframe\">\n",
       "  <thead>\n",
       "    <tr style=\"text-align: right;\">\n",
       "      <th></th>\n",
       "      <th>col1</th>\n",
       "      <th>col2</th>\n",
       "      <th>correlation</th>\n",
       "    </tr>\n",
       "  </thead>\n",
       "  <tbody>\n",
       "    <tr>\n",
       "      <th>0</th>\n",
       "      <td>Percent of adults who are high school graduate...</td>\n",
       "      <td>Percent of adults with a bachelor's degree or ...</td>\n",
       "      <td>-0.807936</td>\n",
       "    </tr>\n",
       "  </tbody>\n",
       "</table>\n",
       "</div>"
      ],
      "text/plain": [
       "                                                col1  \\\n",
       "0  Percent of adults who are high school graduate...   \n",
       "\n",
       "                                                col2  correlation  \n",
       "0  Percent of adults with a bachelor's degree or ...    -0.807936  "
      ]
     },
     "execution_count": 56,
     "metadata": {},
     "output_type": "execute_result"
    }
   ],
   "source": [
    "#ed_filtered\n",
    "#pov_filtered\n",
    "#pop_filtered\n",
    "#un_filtered\n",
    "correlated_pairs(ed_filtered)"
   ]
  },
  {
   "cell_type": "code",
   "execution_count": 57,
   "metadata": {},
   "outputs": [
    {
     "data": {
      "text/html": [
       "<div>\n",
       "<style scoped>\n",
       "    .dataframe tbody tr th:only-of-type {\n",
       "        vertical-align: middle;\n",
       "    }\n",
       "\n",
       "    .dataframe tbody tr th {\n",
       "        vertical-align: top;\n",
       "    }\n",
       "\n",
       "    .dataframe thead th {\n",
       "        text-align: right;\n",
       "    }\n",
       "</style>\n",
       "<table border=\"1\" class=\"dataframe\">\n",
       "  <thead>\n",
       "    <tr style=\"text-align: right;\">\n",
       "      <th></th>\n",
       "      <th>col1</th>\n",
       "      <th>col2</th>\n",
       "      <th>correlation</th>\n",
       "    </tr>\n",
       "  </thead>\n",
       "  <tbody>\n",
       "    <tr>\n",
       "      <th>0</th>\n",
       "      <td>MEDHHINC_2023</td>\n",
       "      <td>PCTPOVALL_2023</td>\n",
       "      <td>-0.762752</td>\n",
       "    </tr>\n",
       "  </tbody>\n",
       "</table>\n",
       "</div>"
      ],
      "text/plain": [
       "            col1            col2  correlation\n",
       "0  MEDHHINC_2023  PCTPOVALL_2023    -0.762752"
      ]
     },
     "execution_count": 57,
     "metadata": {},
     "output_type": "execute_result"
    }
   ],
   "source": [
    "correlated_pairs(pov_filtered)"
   ]
  },
  {
   "cell_type": "code",
   "execution_count": 58,
   "metadata": {},
   "outputs": [
    {
     "name": "stdout",
     "output_type": "stream",
     "text": [
      "No correlations found above threshold of 0.7\n"
     ]
    },
    {
     "data": {
      "text/html": [
       "<div>\n",
       "<style scoped>\n",
       "    .dataframe tbody tr th:only-of-type {\n",
       "        vertical-align: middle;\n",
       "    }\n",
       "\n",
       "    .dataframe tbody tr th {\n",
       "        vertical-align: top;\n",
       "    }\n",
       "\n",
       "    .dataframe thead th {\n",
       "        text-align: right;\n",
       "    }\n",
       "</style>\n",
       "<table border=\"1\" class=\"dataframe\">\n",
       "  <thead>\n",
       "    <tr style=\"text-align: right;\">\n",
       "      <th></th>\n",
       "    </tr>\n",
       "  </thead>\n",
       "  <tbody>\n",
       "  </tbody>\n",
       "</table>\n",
       "</div>"
      ],
      "text/plain": [
       "Empty DataFrame\n",
       "Columns: []\n",
       "Index: []"
      ]
     },
     "execution_count": 58,
     "metadata": {},
     "output_type": "execute_result"
    }
   ],
   "source": [
    "correlated_pairs(pop_filtered)"
   ]
  },
  {
   "cell_type": "code",
   "execution_count": 59,
   "metadata": {},
   "outputs": [
    {
     "name": "stdout",
     "output_type": "stream",
     "text": [
      "No correlations found above threshold of 0.7\n"
     ]
    },
    {
     "data": {
      "text/html": [
       "<div>\n",
       "<style scoped>\n",
       "    .dataframe tbody tr th:only-of-type {\n",
       "        vertical-align: middle;\n",
       "    }\n",
       "\n",
       "    .dataframe tbody tr th {\n",
       "        vertical-align: top;\n",
       "    }\n",
       "\n",
       "    .dataframe thead th {\n",
       "        text-align: right;\n",
       "    }\n",
       "</style>\n",
       "<table border=\"1\" class=\"dataframe\">\n",
       "  <thead>\n",
       "    <tr style=\"text-align: right;\">\n",
       "      <th></th>\n",
       "    </tr>\n",
       "  </thead>\n",
       "  <tbody>\n",
       "  </tbody>\n",
       "</table>\n",
       "</div>"
      ],
      "text/plain": [
       "Empty DataFrame\n",
       "Columns: []\n",
       "Index: []"
      ]
     },
     "execution_count": 59,
     "metadata": {},
     "output_type": "execute_result"
    }
   ],
   "source": [
    "correlated_pairs(un_filtered)"
   ]
  },
  {
   "cell_type": "code",
   "execution_count": 60,
   "metadata": {},
   "outputs": [
    {
     "data": {
      "text/html": [
       "<div>\n",
       "<style scoped>\n",
       "    .dataframe tbody tr th:only-of-type {\n",
       "        vertical-align: middle;\n",
       "    }\n",
       "\n",
       "    .dataframe tbody tr th {\n",
       "        vertical-align: top;\n",
       "    }\n",
       "\n",
       "    .dataframe thead th {\n",
       "        text-align: right;\n",
       "    }\n",
       "</style>\n",
       "<table border=\"1\" class=\"dataframe\">\n",
       "  <thead>\n",
       "    <tr style=\"text-align: right;\">\n",
       "      <th></th>\n",
       "      <th>col1</th>\n",
       "      <th>col2</th>\n",
       "      <th>correlation</th>\n",
       "    </tr>\n",
       "  </thead>\n",
       "  <tbody>\n",
       "    <tr>\n",
       "      <th>0</th>\n",
       "      <td>Percent of adults who are high school graduate...</td>\n",
       "      <td>Percent of adults with a bachelor's degree or ...</td>\n",
       "      <td>-0.807936</td>\n",
       "    </tr>\n",
       "  </tbody>\n",
       "</table>\n",
       "</div>"
      ],
      "text/plain": [
       "                                                col1  \\\n",
       "0  Percent of adults who are high school graduate...   \n",
       "\n",
       "                                                col2  correlation  \n",
       "0  Percent of adults with a bachelor's degree or ...    -0.807936  "
      ]
     },
     "execution_count": 60,
     "metadata": {},
     "output_type": "execute_result"
    }
   ],
   "source": [
    "correlated_pairs(ed_filtered)"
   ]
  },
  {
   "cell_type": "code",
   "execution_count": 61,
   "metadata": {},
   "outputs": [
    {
     "name": "stdout",
     "output_type": "stream",
     "text": [
      "(3195, 21)\n"
     ]
    },
    {
     "data": {
      "text/html": [
       "<div>\n",
       "<style scoped>\n",
       "    .dataframe tbody tr th:only-of-type {\n",
       "        vertical-align: middle;\n",
       "    }\n",
       "\n",
       "    .dataframe tbody tr th {\n",
       "        vertical-align: top;\n",
       "    }\n",
       "\n",
       "    .dataframe thead th {\n",
       "        text-align: right;\n",
       "    }\n",
       "</style>\n",
       "<table border=\"1\" class=\"dataframe\">\n",
       "  <thead>\n",
       "    <tr style=\"text-align: right;\">\n",
       "      <th></th>\n",
       "      <th>col1</th>\n",
       "      <th>col2</th>\n",
       "      <th>correlation</th>\n",
       "    </tr>\n",
       "  </thead>\n",
       "  <tbody>\n",
       "    <tr>\n",
       "      <th>0</th>\n",
       "      <td>Percent of adults who are high school graduate...</td>\n",
       "      <td>Percent of adults with a bachelor's degree or ...</td>\n",
       "      <td>-0.811720</td>\n",
       "    </tr>\n",
       "    <tr>\n",
       "      <th>3</th>\n",
       "      <td>MEDHHINC_2023</td>\n",
       "      <td>PCTPOVALL_2023</td>\n",
       "      <td>-0.762752</td>\n",
       "    </tr>\n",
       "    <tr>\n",
       "      <th>1</th>\n",
       "      <td>Employed_2023</td>\n",
       "      <td>NATURAL_CHG_2021</td>\n",
       "      <td>0.756382</td>\n",
       "    </tr>\n",
       "    <tr>\n",
       "      <th>2</th>\n",
       "      <td>MEDHHINC_2023</td>\n",
       "      <td>Percent of adults with a bachelor's degree or ...</td>\n",
       "      <td>0.728667</td>\n",
       "    </tr>\n",
       "  </tbody>\n",
       "</table>\n",
       "</div>"
      ],
      "text/plain": [
       "                                                col1  \\\n",
       "0  Percent of adults who are high school graduate...   \n",
       "3                                      MEDHHINC_2023   \n",
       "1                                      Employed_2023   \n",
       "2                                      MEDHHINC_2023   \n",
       "\n",
       "                                                col2  correlation  \n",
       "0  Percent of adults with a bachelor's degree or ...    -0.811720  \n",
       "3                                     PCTPOVALL_2023    -0.762752  \n",
       "1                                   NATURAL_CHG_2021     0.756382  \n",
       "2  Percent of adults with a bachelor's degree or ...     0.728667  "
      ]
     },
     "execution_count": 61,
     "metadata": {},
     "output_type": "execute_result"
    }
   ],
   "source": [
    "ed_filtered = ed_filtered.rename(columns={'FIPS Code': 'FIPS'})\n",
    "pop_filtered = pop_filtered.rename(columns={'FIPStxt': 'FIPS'})\n",
    "un_filtered = un_filtered.rename(columns={'FIPS_Code': 'FIPS'})\n",
    "pov_filtered = pov_filtered.rename(columns={'FIPS_Code': 'FIPS'})\n",
    "\n",
    "# Merge all dataframes on 'FIPS'\n",
    "merged = ed_filtered.merge(pop_filtered, on='FIPS')\\\n",
    "                       .merge(un_filtered, on='FIPS')\\\n",
    "                       .merge(pov_filtered, on='FIPS')\n",
    "print(merged.shape)\n",
    "correlated_pairs(merged)"
   ]
  },
  {
   "cell_type": "code",
   "execution_count": null,
   "metadata": {},
   "outputs": [],
   "source": []
  },
  {
   "cell_type": "markdown",
   "metadata": {},
   "source": [
    "#### Null values"
   ]
  },
  {
   "cell_type": "code",
   "execution_count": 62,
   "metadata": {},
   "outputs": [
    {
     "name": "stdout",
     "output_type": "stream",
     "text": [
      "2024 Urban Influence Code    52\n",
      "Economic_typology_2015       63\n",
      "Employed_2023                 9\n",
      "Unemployment_rate_2023        9\n",
      "dtype: int64\n"
     ]
    }
   ],
   "source": [
    "\n",
    "null_counts = merged.isnull().sum()\n",
    "print(null_counts[null_counts != 0])\n"
   ]
  },
  {
   "cell_type": "code",
   "execution_count": 63,
   "metadata": {},
   "outputs": [
    {
     "name": "stdout",
     "output_type": "stream",
     "text": [
      "       FIPS State_x             Area name  2024 Urban Influence Code  Percent of adults who are not high school graduates, 2019-23  Percent of adults who are high school graduates (or equivalent), 2019-23  Percent of adults completing some college or associate degree, 2019-23  Percent of adults with a bachelor's degree or higher, 2019-23 State_y             Area_Name  Economic_typology_2015  NATURAL_CHG_2021  DOMESTIC_MIG_2021  R_BIRTH_2021  R_NATURAL_CHG_2021  R_INTERNATIONAL_MIG_2021  R_DOMESTIC_MIG_2021  Employed_2023  Unemployment_rate_2023  MEDHHINC_2023  PCTPOVALL_2023\n",
      "0         0      US         United States                        NaN                                                     10.607067                                                                 26.194137                                                               28.197846                                                      35.000950      US         United States                     NaN          146036.0                0.0          10.8                 0.4                       1.1                  0.0    160623678.0                     3.6        77719.0            12.5\n",
      "1      1000      AL               Alabama                        NaN                                                     11.871959                                                                 30.344616                                                               30.028286                                                      27.755139      AL               Alabama                     NaN          -11951.0            27715.0          11.3                -2.4                       0.4                  5.5      2250472.0                     2.5        62248.0            15.7\n",
      "69     2000      AK                Alaska                        NaN                                                      6.528757                                                                 28.941408                                                               33.287559                                                      31.242276      AK                Alaska                     NaN            4123.0            -2948.0          12.9                 5.6                       1.2                 -4.0       342005.0                     4.2        88696.0            10.5\n",
      "100    4000      AZ               Arizona                        NaN                                                     10.911001                                                                 23.477843                                                               33.000824                                                      32.610332      AZ               Arizona                     NaN           -4583.0            82290.0          10.5                -0.6                       1.1                 11.4      3546508.0                     3.9        77158.0            12.6\n",
      "116    5000      AR              Arkansas                        NaN                                                     11.442382                                                                 34.386203                                                               29.060040                                                      25.111375      AR              Arkansas                     NaN           -5253.0            17806.0          11.6                -1.7                       0.4                  5.9      1332876.0                     3.3        58748.0            15.4\n",
      "192    6000      CA            California                        NaN                                                     15.400748                                                                 20.400707                                                               27.695487                                                      36.503058      CA            California                     NaN           67325.0          -458862.0          10.5                 1.7                       1.1                -11.7     18388329.0                     4.8        95473.0            12.0\n",
      "251    8000      CO              Colorado                        NaN                                                      7.241390                                                                 20.082114                                                               27.948508                                                      44.727988      CO              Colorado                     NaN           15656.0             5404.0          10.7                 2.7                       0.7                  0.9      3128115.0                     3.2        92790.0             9.4\n",
      "316    9000      CT           Connecticut                        NaN                                                      8.668051                                                                 25.548028                                                               23.839007                                                      41.944914      CT           Connecticut                     NaN            -629.0            19032.0           9.5                -0.2                       1.7                  5.3      1822088.0                     3.8        91477.0            10.2\n",
      "326   10000      DE              Delaware                        NaN                                                      8.606473                                                                 29.023059                                                               27.092993                                                      35.277475      DE              Delaware                     NaN           -1054.0            13284.0          10.2                -1.1                       0.9                 13.3       486404.0                     4.0        81615.0            10.8\n",
      "330   11000      DC  District of Columbia                        NaN                                                      7.153297                                                                 14.517161                                                               14.765919                                                      63.563622      DC  District of Columbia                     NaN            2671.0            -6551.0          12.7                 4.0                       2.6                 -9.8       378714.0                     4.9       104643.0            15.2\n",
      "332   12000      FL               Florida                        NaN                                                     10.368492                                                                 27.421577                                                               28.999636                                                      33.210295      FL               Florida                     NaN          -42447.0           244619.0           9.6                -2.0                       2.2                 11.3     10668886.0                     2.9        73283.0            12.4\n",
      "400   13000      GA               Georgia                        NaN                                                     11.048082                                                                 26.894828                                                               27.852120                                                      34.204970      GA               Georgia                     NaN           11775.0            35341.0          11.3                 1.1                       0.9                  3.3      5135833.0                     3.2        74521.0            13.7\n",
      "560   15000      HI                Hawaii                        NaN                                                      7.100786                                                                 26.652235                                                               30.777310                                                      35.469669      HI                Hawaii                     NaN            3376.0            -9982.0          10.7                 2.3                       1.4                 -6.9       656336.0                     3.0        96716.0            10.2\n",
      "565   16000      ID                 Idaho                        NaN                                                      8.323428                                                                 25.923658                                                               34.568627                                                      31.184286      ID                 Idaho                     NaN            4709.0            51524.0          11.6                 2.5                       0.4                 27.5       931748.0                     3.1        74859.0            10.1\n",
      "610   17000      IL              Illinois                        NaN                                                      9.742090                                                                 25.261990                                                               27.810428                                                      37.185492      IL              Illinois                     NaN            3503.0          -115656.0          10.4                 0.3                       0.9                 -9.1      6150672.0                     4.5        80346.0            11.6\n",
      "713   18000      IN               Indiana                        NaN                                                      9.774540                                                                 32.816719                                                               28.608599                                                      28.800141      IN               Indiana                     NaN            -156.0            16132.0          11.4                 0.0                       0.9                  2.4      3288017.0                     3.3        69458.0            12.2\n",
      "806   19000      IA                  Iowa                        NaN                                                      6.779754                                                                 30.365629                                                               31.991436                                                      30.863182      IA                  Iowa                     NaN             388.0             1805.0          11.2                 0.1                       1.2                  0.6      1659106.0                     2.9        71662.0            11.1\n",
      "906   20000      KS                Kansas                        NaN                                                      8.099910                                                                 25.609931                                                               31.134391                                                      35.155768      KS                Kansas                     NaN            1344.0            -4975.0          11.6                 0.5                       0.7                 -1.7      1470936.0                     2.7        70316.0            11.2\n",
      "1012  21000      KY              Kentucky                        NaN                                                     11.466797                                                                 32.705122                                                               28.836086                                                      26.991996      KY              Kentucky                     NaN           -7037.0             3216.0          11.4                -1.6                       0.4                  0.7      1941994.0                     4.2        61099.0            16.1\n",
      "1133  22000      LA             Louisiana                        NaN                                                     13.098609                                                                 32.541426                                                               27.809272                                                      26.550693      LA             Louisiana                     NaN             156.0           -28324.0          12.3                 0.0                       0.7                 -6.1      2000152.0                     3.7        58273.0            18.9\n",
      "1198  23000      ME                 Maine                        NaN                                                      5.511445                                                                 30.516806                                                               28.627229                                                      35.344521      ME                 Maine                     NaN           -4526.0            17938.0           8.4                -3.3                       0.7                 13.1       667619.0                     2.9        73463.0            10.5\n",
      "1215  24000      MD              Maryland                        NaN                                                      8.956652                                                                 23.735534                                                               24.571447                                                      42.736366      MD              Maryland                     NaN            8436.0           -17683.0          10.9                 1.4                       1.5                 -2.9      3117270.0                     2.1        98568.0             9.7\n",
      "1240  25000      MA         Massachusetts                        NaN                                                      8.597671                                                                 22.844451                                                               21.932898                                                      46.624980      MA         Massachusetts                     NaN            4789.0           -26269.0           9.5                 0.7                       2.4                 -3.8      3625293.0                     3.4        99750.0            10.5\n",
      "1255  26000      MI              Michigan                        NaN                                                      8.107727                                                                 28.195932                                                               31.932879                                                      31.763462      MI              Michigan                     NaN          -12415.0           -29881.0          10.2                -1.2                       0.7                 -3.0      4812421.0                     3.9        69097.0            13.5\n",
      "1339  27000      MN             Minnesota                        NaN                                                      6.148312                                                                 23.520791                                                               31.502441                                                      38.828456      MN             Minnesota                     NaN           11616.0           -10887.0          11.0                 2.0                       1.0                 -1.9      3012707.0                     2.8        85070.0             9.2\n",
      "1427  28000      MS           Mississippi                        NaN                                                     13.361735                                                                 29.905375                                                               32.574260                                                      24.158630      MS           Mississippi                     NaN           -6699.0            -3456.0          11.8                -2.3                       0.2                 -1.2      1192015.0                     3.2        54386.0            18.3\n",
      "1510  29000      MO              Missouri                        NaN                                                      8.411090                                                                 30.336992                                                               29.355020                                                      31.896898      MO              Missouri                     NaN           -6545.0            16811.0          11.2                -1.1                       0.6                  2.7      2993587.0                     3.0        68484.0            12.0\n",
      "1626  30000      MT               Montana                        NaN                                                      5.429067                                                                 27.878650                                                               32.153284                                                      34.538999      MT               Montana                     NaN           -1310.0            20376.0           9.9                -1.2                       0.6                 18.6       557509.0                     2.9        70939.0            11.8\n",
      "1683  31000      NE              Nebraska                        NaN                                                      7.925249                                                                 25.130904                                                               32.823951                                                      34.119896      NE              Nebraska                     NaN            4840.0            -6037.0          12.4                 2.5                       0.8                 -3.1      1030880.0                     2.3        74727.0            10.2\n",
      "1777  32000      NV                Nevada                        NaN                                                     12.631091                                                                 27.434234                                                               32.549847                                                      27.384828      NV                Nevada                     NaN             971.0            25387.0          10.7                 0.3                       1.2                  8.1      1520260.0                     5.1        76332.0            12.2\n",
      "1795  33000      NH         New Hampshire                        NaN                                                      5.944876                                                                 27.006744                                                               27.231769                                                      39.816611      NH         New Hampshire                     NaN           -1665.0             8461.0           8.7                -1.2                       1.1                  6.1       742886.0                     2.2        97031.0             7.3\n",
      "1806  34000      NJ            New Jersey                        NaN                                                      9.300442                                                                 25.745880                                                               22.043141                                                      42.910537      NJ            New Jersey                     NaN           14030.0           -33561.0          10.6                 1.5                       1.6                 -3.6      4615722.0                     4.4        99716.0             9.7\n",
      "1828  35000      NM            New Mexico                        NaN                                                     12.277472                                                                 25.729170                                                               31.791545                                                      30.201813      NM            New Mexico                     NaN           -3207.0            -1206.0          10.1                -1.5                       1.1                 -0.6       928983.0                     3.8        62286.0            16.9\n",
      "1862  36000      NY              New York                        NaN                                                     12.135755                                                                 24.559904                                                               23.754124                                                      39.550217      NY              New York                     NaN           28326.0          -295159.0          10.3                 1.4                       1.4                -14.8      9306973.0                     4.2        82052.0            14.1\n",
      "1925  37000      NC        North Carolina                        NaN                                                     10.253380                                                                 24.959728                                                               30.066168                                                      34.720724      NC        North Carolina                     NaN            1267.0           101909.0          11.1                 0.1                       0.9                  9.7      5050870.0                     3.5        70838.0            12.8\n",
      "2026  38000      ND          North Dakota                        NaN                                                      6.170689                                                                 25.682659                                                               35.861801                                                      32.284852      ND          North Dakota                     NaN            2253.0            -4008.0          12.9                 2.9                       0.6                 -5.1       408909.0                     1.9        77346.0            10.0\n",
      "2080  39000      OH                  Ohio                        NaN                                                      8.377757                                                                 32.313478                                                               28.359331                                                      30.949434      OH                  Ohio                     NaN          -18541.0           -27624.0          10.9                -1.6                       0.8                 -2.3      5582438.0                     3.5        67873.0            13.2\n",
      "2169  40000      OK              Oklahoma                        NaN                                                     10.868712                                                                 30.718938                                                               30.631104                                                      27.781246      OK              Oklahoma                     NaN           -3332.0            26348.0          11.9                -0.8                       0.5                  6.6      1899949.0                     3.2        62120.0            15.8\n",
      "2247  41000      OR                Oregon                        NaN                                                      8.282694                                                                 22.382647                                                               33.111277                                                      36.223382      OR                Oregon                     NaN           -2283.0            10253.0           9.3                -0.5                       0.6                  2.4      2081652.0                     3.7        80061.0            12.1\n",
      "2284  42000      PA          Pennsylvania                        NaN                                                      8.092693                                                                 33.205152                                                               24.207808                                                      34.494348      PA          Pennsylvania                     NaN          -25416.0            27803.0          10.0                -2.0                       0.8                  2.1      6295653.0                     3.4        73826.0            11.9\n",
      "2352  44000      RI          Rhode Island                        NaN                                                     10.518413                                                                 26.511355                                                               25.666287                                                      37.303945      RI          Rhode Island                     NaN           -1302.0              365.0           9.1                -1.2                       1.0                  0.3       556609.0                     3.0        83518.0            11.4\n",
      "2358  45000      SC        South Carolina                        NaN                                                     10.406041                                                                 28.232892                                                               29.890421                                                      31.470645      SC        South Carolina                     NaN           -9096.0            67368.0          10.8                -1.8                       0.8                 13.0      2380392.0                     3.0        67988.0            13.9\n",
      "2405  46000      SD          South Dakota                        NaN                                                      6.985475                                                                 29.475272                                                               32.437175                                                      31.102079      SD          South Dakota                     NaN            1284.0             6026.0          12.4                 1.4                       1.2                  6.8       470715.0                     2.0        72794.0            11.4\n",
      "2472  47000      TN             Tennessee                        NaN                                                     10.394206                                                                 31.386570                                                               27.827153                                                      30.392071      TN             Tennessee                     NaN           -9942.0            45241.0          11.4                -1.4                       0.4                  6.5      3267935.0                     3.3        67651.0            13.8\n",
      "2568  48000      TX                 Texas                        NaN                                                     14.303062                                                                 24.316132                                                               28.304397                                                      33.076409      TX                 Texas                     NaN           94499.0           191643.0          12.4                 3.2                       1.5                  6.5     14472524.0                     3.9        75778.0            13.7\n",
      "2823  49000      UT                  Utah                        NaN                                                      6.719738                                                                 22.454675                                                               33.904769                                                      36.920818      UT                  Utah                     NaN           23710.0            29664.0          13.8                 7.2                       0.6                  9.0      1743223.0                     2.6        93030.0             9.0\n",
      "2853  50000      VT               Vermont                        NaN                                                      5.470026                                                                 27.252719                                                               24.648593                                                      42.628662      VT               Vermont                     NaN           -1294.0             4842.0           8.0                -2.0                       0.6                  7.5       343840.0                     2.0        80626.0             9.9\n",
      "2868  51000      VA              Virginia                        NaN                                                      8.662416                                                                 23.891967                                                               25.967764                                                      41.477853      VA              Virginia                     NaN           10512.0            -5468.0          10.9                 1.2                       1.7                 -0.6      4424155.0                     2.9        89864.0            10.2\n",
      "3002  53000      WA            Washington                        NaN                                                      7.793114                                                                 21.748401                                                               31.687972                                                      38.770512      WA            Washington                     NaN           17678.0           -15418.0          10.7                 2.3                       1.8                 -2.0      3860883.0                     4.1        94553.0            10.3\n",
      "3042  54000      WV         West Virginia                        NaN                                                     11.389361                                                                 39.482919                                                               25.842143                                                      23.285576      WV         West Virginia                     NaN          -10557.0             2878.0           9.5                -5.9                       0.4                  1.6       754986.0                     3.9        55875.0            16.4\n",
      "3098  55000      WI             Wisconsin                        NaN                                                      6.620605                                                                 29.669059                                                               30.951992                                                      32.758344      WI             Wisconsin                     NaN           -1949.0           -19290.0          10.2                -0.3                       0.5                 -3.3      3038960.0                     3.0        74671.0            10.6\n",
      "3171  56000      WY               Wyoming                        NaN                                                      5.942291                                                                 27.783537                                                               36.353867                                                      29.920304      WY               Wyoming                     NaN             -12.0             1764.0          10.7                 0.0                       0.2                  3.0       286669.0                     2.9        73558.0            10.4\n"
     ]
    }
   ],
   "source": [
    "\n",
    "rows_with_nulls = merged[merged['2024 Urban Influence Code'].isnull()]\n",
    "# rows_with_nulls = merged[merged.isnull().any(axis=1)]\n",
    "\n",
    "print(rows_with_nulls.to_string())\n"
   ]
  },
  {
   "cell_type": "code",
   "execution_count": 64,
   "metadata": {},
   "outputs": [
    {
     "name": "stdout",
     "output_type": "stream",
     "text": [
      "     FIPS State_x                                                    Area name  2024 Urban Influence Code  Percent of adults who are not high school graduates, 2019-23  Percent of adults who are high school graduates (or equivalent), 2019-23  Percent of adults completing some college or associate degree, 2019-23  Percent of adults with a bachelor's degree or higher, 2019-23 State_y                                       Area_Name  Economic_typology_2015  NATURAL_CHG_2021  DOMESTIC_MIG_2021  R_BIRTH_2021  R_NATURAL_CHG_2021  R_INTERNATIONAL_MIG_2021  R_DOMESTIC_MIG_2021  Employed_2023  Unemployment_rate_2023  MEDHHINC_2023  PCTPOVALL_2023\n",
      "75   2063      AK                                  Chugach Census Area, Alaska                        9.0                                                      4.320099                                                                 25.591442                                                               40.506069                                                      29.582390      AK                             Chugach Census Area                     NaN              43.0             -154.0          11.4                 6.1                       1.1                -21.9         3297.0                     4.7        95180.0             8.7\n",
      "76   2066      AK                             Copper River Census Area, Alaska                        9.0                                                      9.016839                                                                 26.507333                                                               36.121673                                                      28.354155      AK                        Copper River Census Area                     NaN              -5.0               11.0           9.6                -1.9                      -0.4                  4.2         1273.0                     7.6        69092.0            14.2\n",
      "317  9110      CT                         Capitol Planning Region, Connecticut                        1.0                                                      8.834788                                                                 25.091329                                                               24.585005                                                      41.488878      CT                         Capitol Planning Region                     NaN            -275.0             5949.0           9.5                -0.3                       1.8                  6.2            NaN                     NaN        90965.0             9.8\n",
      "318  9120      CT              Greater Bridgeport Planning Region, Connecticut                        4.0                                                     12.743866                                                                 24.829560                                                               20.768941                                                      41.657632      CT              Greater Bridgeport Planning Region                     NaN             695.0              552.0          10.0                 2.1                       2.8                  1.7            NaN                     NaN        92858.0            11.3\n",
      "319  9130      CT  Lower Connecticut River Valley Planning Region, Connecticut                        1.0                                                      4.772353                                                                 24.530771                                                               25.245970                                                      45.450906      CT  Lower Connecticut River Valley Planning Region                     NaN            -425.0             2485.0           7.8                -2.4                       0.7                 14.3            NaN                     NaN        99807.0             7.1\n",
      "320  9140      CT                Naugatuck Valley Planning Region, Connecticut                        4.0                                                      9.666953                                                                 29.548109                                                               26.996335                                                      33.788603      CT                Naugatuck Valley Planning Region                     NaN            -203.0             2450.0           9.5                -0.5                       1.1                  5.4            NaN                     NaN        81392.0            11.4\n",
      "321  9150      CT        Northeastern Connecticut Planning Region, Connecticut                        2.0                                                      7.894885                                                                 35.218567                                                               30.727524                                                      26.159024      CT        Northeastern Connecticut Planning Region                     NaN            -276.0              594.0           8.3                -2.9                       0.3                  6.2            NaN                     NaN        88129.0             7.6\n",
      "322  9160      CT                 Northwest Hills Planning Region, Connecticut                        2.0                                                      5.939750                                                                 28.076449                                                               26.593880                                                      39.389920      CT                 Northwest Hills Planning Region                     NaN            -346.0              995.0           7.8                -3.1                       0.6                  8.8            NaN                     NaN        91206.0             8.4\n",
      "323  9170      CT       South Central Connecticut Planning Region, Connecticut                        4.0                                                      8.333312                                                                 27.950872                                                               22.644328                                                      41.071487      CT       South Central Connecticut Planning Region                     NaN            -297.0             3509.0           9.8                -0.5                       1.8                  6.2            NaN                     NaN        80953.0            12.5\n",
      "324  9180      CT        Southeastern Connecticut Planning Region, Connecticut                        4.0                                                      7.357298                                                                 29.170979                                                               28.834642                                                      34.637081      CT        Southeastern Connecticut Planning Region                     NaN            -594.0              543.0           8.9                -2.1                       1.2                  1.9            NaN                     NaN        82733.0            12.4\n",
      "325  9190      CT             Western Connecticut Planning Region, Connecticut                        4.0                                                      8.317610                                                                 18.020372                                                               18.616184                                                      55.045833      CT             Western Connecticut Planning Region                     NaN            1092.0             1955.0           9.8                 1.8                       2.5                  3.1            NaN                     NaN       121285.0             8.0\n"
     ]
    }
   ],
   "source": [
    "\n",
    "rows_w= merged[merged['Economic_typology_2015'].isnull() & merged['2024 Urban Influence Code'].notnull()]\n",
    "\n",
    "print(rows_w.to_string())\n"
   ]
  },
  {
   "cell_type": "markdown",
   "metadata": {},
   "source": [
    "These FIPS codes correspond to states not counties, see  https://transition.fcc.gov/oet/info/maps/census/fips/fips.txt\n",
    "\n",
    "Other 9 rows acounted for, either census areas or planning regions "
   ]
  },
  {
   "cell_type": "code",
   "execution_count": null,
   "metadata": {},
   "outputs": [],
   "source": []
  }
 ],
 "metadata": {
  "kernelspec": {
   "display_name": "Python 3",
   "language": "python",
   "name": "python3"
  },
  "language_info": {
   "codemirror_mode": {
    "name": "ipython",
    "version": 3
   },
   "file_extension": ".py",
   "mimetype": "text/x-python",
   "name": "python",
   "nbconvert_exporter": "python",
   "pygments_lexer": "ipython3",
   "version": "3.11.5"
  }
 },
 "nbformat": 4,
 "nbformat_minor": 4
}
